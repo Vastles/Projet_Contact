{
 "cells": [
  {
   "attachments": {},
   "cell_type": "markdown",
   "metadata": {},
   "source": [
    "# Contact Feature"
   ]
  },
  {
   "attachments": {},
   "cell_type": "markdown",
   "metadata": {},
   "source": [
    "This project consists to create, update and delete contacts from a phone "
   ]
  },
  {
   "attachments": {},
   "cell_type": "markdown",
   "metadata": {},
   "source": [
    "Imported libraries"
   ]
  },
  {
   "cell_type": "code",
   "execution_count": null,
   "metadata": {},
   "outputs": [],
   "source": [
    "from datetime import date\n",
    "import pandas as pd"
   ]
  },
  {
   "attachments": {},
   "cell_type": "markdown",
   "metadata": {},
   "source": [
    "CLASS"
   ]
  },
  {
   "cell_type": "code",
   "execution_count": null,
   "metadata": {},
   "outputs": [],
   "source": [
    "class Contact():\n",
    "    \n",
    "    def __init__(self):\n",
    "        pass\n",
    "    \n",
    "    def create_contact(self, first_name, last_name, phone_number):\n",
    "        self.first_name = first_name\n",
    "        self.last_name = last_name\n",
    "        self.phone_number = phone_number\n",
    "        self.creation_date = date.today()\n",
    "        data = {\n",
    "            \"First Name\": self.first_name,\n",
    "            \"Last Name\": self.last_name,\n",
    "            \"Phone Number\": self.phone_number,\n",
    "            \"Creation Date\": self.creation_date,\n",
    "        }\n",
    "        pd.read(f'{self.first_name}.csv')\n",
    "    \n",
    "    def update(self, newphone):\n",
    "        self.updated_date = date.today()\n",
    "        self.phone_number = newphone\n",
    "    \n",
    "    def delete(self, first_name, last_name, phone_number):\n",
    "        pass"
   ]
  },
  {
   "attachments": {},
   "cell_type": "markdown",
   "metadata": {},
   "source": [
    "CREATE"
   ]
  },
  {
   "cell_type": "code",
   "execution_count": null,
   "metadata": {},
   "outputs": [],
   "source": [
    "data = pd.read_csv('contact.csv')\n",
    "\n",
    "def create_contact():\n",
    "    first_name = input(\"First Name : \")\n",
    "    last_name = input(\"Last Name : \")\n",
    "    phone_number = input(\"Phone Number : \")\n",
    "    contact = {}\n",
    "    contact[first_name] = [first_name, last_name, phone_number, date.today()]\n",
    "    return(contact)"
   ]
  },
  {
   "cell_type": "code",
   "execution_count": null,
   "metadata": {},
   "outputs": [],
   "source": [
    "def create_contact():\n",
    "    first_name = input(\"First Name : \")\n",
    "    last_name = input(\"Last Name : \")\n",
    "    phone_number = input(\"Phone Number : \")\n",
    "    contact = [first_name, last_name, phone_number, date.today()]\n",
    "    return(contact)\n",
    "\n",
    "def csv_format(list_values):\n",
    "    keys = ['First Name', 'Last Name', 'Phone Number', 'Creation Date']\n",
    "    data = dict(zip(keys, list_values))\n",
    "    data_frame = pd.DataFrame(data)\n",
    "    \n",
    "    data_frame.to_csv('Data/contact_dict.csv', index = False)\n",
    "    contact_csv = pd.read_csv('Data/contact_dict.csv')\n",
    "    return(contact_csv)"
   ]
  },
  {
   "attachments": {},
   "cell_type": "markdown",
   "metadata": {},
   "source": [
    "UPDATE"
   ]
  },
  {
   "cell_type": "code",
   "execution_count": null,
   "metadata": {},
   "outputs": [],
   "source": [
    "def update():\n",
    "    update_name = input(\"First name of the contact to be modified : \")\n",
    "    mask = data[\"First Name\"] == update_name\n",
    "    update_name.update(input(\"New phone number : \"))\n",
    "    print(update_name, \"'s number has been changed\")\n",
    "    "
   ]
  },
  {
   "attachments": {},
   "cell_type": "markdown",
   "metadata": {},
   "source": [
    "BONUS : DELETE"
   ]
  },
  {
   "cell_type": "code",
   "execution_count": null,
   "metadata": {},
   "outputs": [],
   "source": [
    "def delete():\n",
    "    delete_contact = input(\"First name of the contact to be modified : \")\n",
    "    mask = data[\"First Name\"] == delete_contact\n",
    "    delete_contact.delete\n",
    "    print(\"The contact has been deleted\")"
   ]
  },
  {
   "attachments": {},
   "cell_type": "markdown",
   "metadata": {},
   "source": [
    "EXECUTION"
   ]
  },
  {
   "cell_type": "code",
   "execution_count": null,
   "metadata": {},
   "outputs": [],
   "source": [
    "keys = [\"First Name\", \"Last Name\", \"Phone Number\", \"Creation Date\"]\n",
    "values = []\n",
    "data = dict(zip(keys, values))\n",
    "data_frame = pd.DataFrame(data)\n",
    "data_frame.to_csv('contact.csv', index = False)\n",
    "\n",
    "data_frame.head"
   ]
  },
  {
   "cell_type": "code",
   "execution_count": null,
   "metadata": {},
   "outputs": [],
   "source": [
    "print(\"Directory\")\n",
    "print(\"1 - Add a contact\")\n",
    "print(\"2 - Update a contact\")\n",
    "print(\"3 - Delete a contact\")\n",
    "print(\"4 - Exit\")\n",
    "\n",
    "choix = input()\n",
    "\n",
    "while choix != 4:\n",
    "    if choix == \"1\":\n",
    "        csv_format(create_contact())\n",
    "    if choix == \"2\":\n",
    "        update()\n",
    "    if choix == \"3\":\n",
    "        pass\n",
    "    if choix == \"4\":\n",
    "        exit\n",
    "    elif:\n",
    "        print(\"Input error\")\n",
    "    input(\"Directory\", \"\\n1 - Add a contact\", \"\\n2 - Update a contact\", \"\\n3 - Delete a contact\", \"\\n4 - Exit\")\n"
   ]
  }
 ],
 "metadata": {
  "kernelspec": {
   "display_name": "Python 3",
   "language": "python",
   "name": "python3"
  },
  "language_info": {
   "codemirror_mode": {
    "name": "ipython",
    "version": 3
   },
   "file_extension": ".py",
   "mimetype": "text/x-python",
   "name": "python",
   "nbconvert_exporter": "python",
   "pygments_lexer": "ipython3",
   "version": "3.10.9"
  },
  "orig_nbformat": 4,
  "vscode": {
   "interpreter": {
    "hash": "65a440aeac0c89e2af7569e0aa53b64434c4b69eb6285e2b0d174d9bca190d54"
   }
  }
 },
 "nbformat": 4,
 "nbformat_minor": 2
}
